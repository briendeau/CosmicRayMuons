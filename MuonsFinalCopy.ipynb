{
 "cells": [
  {
   "cell_type": "code",
   "execution_count": 1,
   "id": "ebc447bb-e908-41e6-9346-06b1db221cd8",
   "metadata": {
    "tags": []
   },
   "outputs": [
    {
     "name": "stderr",
     "output_type": "stream",
     "text": [
      "/var/folders/tx/tv7gd2xd0554_xx6qzsnl36m0000gn/T/ipykernel_66612/4188288969.py:50: PeakPropertyWarning: some peaks have a width of 0\n",
      "  peaks, _ = find_peaks(x, width=12)\n",
      "/Users/perfecto/opt/anaconda3/lib/python3.9/site-packages/numpy/lib/function_base.py:380: RuntimeWarning: Mean of empty slice.\n",
      "  avg = a.mean(axis)\n",
      "/Users/perfecto/opt/anaconda3/lib/python3.9/site-packages/numpy/core/_methods.py:189: RuntimeWarning: invalid value encountered in double_scalars\n",
      "  ret = ret.dtype.type(ret / rcount)\n"
     ]
    },
    {
     "name": "stdout",
     "output_type": "stream",
     "text": [
      "P_H_1 6293.436227\n",
      "P_H_2 2701.4100000000017\n"
     ]
    }
   ],
   "source": [
    "import numpy as np\n",
    "from matplotlib import pyplot as plt\n",
    "import scipy.optimize\n",
    "\n",
    "import csv\n",
    "import pandas as pd\n",
    "\n",
    "import glob #for\n",
    "#using wildcard searches to locate files\n",
    "from scipy.signal import find_peaks\n",
    "\n",
    "#create three lists to store data\n",
    "decay_times = []\n",
    "muon_pulse_heights = []\n",
    "decay_pulse_heights = []\n",
    "\n",
    "#file paths (relative)\n",
    "# path = '.'\n",
    "all_files = glob.glob(\"*.csv\")\n",
    "\n",
    "#loop through each file and do the analysis on each run, append results to lists.\n",
    "for filename in all_files:\n",
    "    if '_traces' in filename:\n",
    "        \n",
    "        try:\n",
    "            f = open(filename, newline='')\n",
    "        except:\n",
    "            print(f'Could not open {filename}.')\n",
    "            continue\n",
    "        \n",
    "        #print(f'Processing {filename}.')\n",
    "        reader = csv.reader(f, quoting = csv.QUOTE_NONE)\n",
    "\n",
    "        while True:\n",
    "            try:\n",
    "                ch, evt = next(reader)\n",
    "            except:\n",
    "                break\n",
    "        \n",
    "            #create array for times and voltages \n",
    "            times = np.array(next(reader))\n",
    "            times = times.astype(float)\n",
    "            \n",
    "            voltages = np.array(next(reader))\n",
    "            voltages = voltages.astype(float)\n",
    "\n",
    "            x = np.gradient(voltages)   ##gradient\n",
    "            #peaks, _ = find_peaks(x, distance=1000)\n",
    "            #peaks, _ = find_peaks(x, prominence=65) # BEST!\n",
    "            peaks, _ = find_peaks(x, width=12)\n",
    "            width = 12\n",
    "            \n",
    "            # Use a try block to establish the average baseline voltage for both peaks on a run,\n",
    "            # Identify the max peak voltages\n",
    "            # Compute the decay_time by subtracting the time separation of the peaks\n",
    "            try:\n",
    "                baseline = voltages[peaks[0]-width-10:peaks[0]-width] #10ish point sample of baseline\n",
    "                avg = np.average(baseline)\n",
    "                baselineTwo = voltages[peaks[1]-width-10:peaks[1]-width]\n",
    "                avgTwo = np.average(baselineTwo)\n",
    "                \n",
    "                maxVone = np.max(voltages[peaks[0]:peaks[1]])\n",
    "                maxVtwo = np.max(voltages[peaks[1]:])\n",
    "                \n",
    "                decay_times.append(times[peaks[1]]-times[peaks[0]])\n",
    "                \n",
    "                pulseHeightone = maxVone - avg\n",
    "                pulseHeightTwo = maxVtwo - avgTwo\n",
    "                muon_pulse_heights.append(pulseHeightone)\n",
    "                decay_pulse_heights.append(pulseHeightTwo)\n",
    "            except:\n",
    "                continue\n",
    "                \n",
    "print(\"P_H_1\", pulseHeightone)\n",
    "print(\"P_H_2\", pulseHeightTwo)"
   ]
  },
  {
   "cell_type": "code",
   "execution_count": 2,
   "id": "d6d89a26-1136-4d83-8328-1836c0d22dbc",
   "metadata": {
    "tags": []
   },
   "outputs": [
    {
     "data": {
      "image/png": "[encoded data removed]",
      "text/plain": [
       "<Figure size 432x288 with 1 Axes>"
      ]
     },
     "metadata": {
      "needs_background": "light"
     },
     "output_type": "display_data"
    },
    {
     "data": {
      "image/png": "[encoded data removed]",
      "text/plain": [
       "<Figure size 432x288 with 1 Axes>"
      ]
     },
     "metadata": {
      "needs_background": "light"
     },
     "output_type": "display_data"
    },
    {
     "data": {
      "image/png": "[encoded data removed]",
      "text/plain": [
       "<Figure size 432x288 with 1 Axes>"
      ]
     },
     "metadata": {
      "needs_background": "light"
     },
     "output_type": "display_data"
    },
    {
     "name": "stdout",
     "output_type": "stream",
     "text": [
      "Found 5522 potential decay events.\n"
     ]
    }
   ],
   "source": [
    "#make 3 histograms, one for decay times, one for pulse heights, and one for decay_pulse heights\n",
    "# 1ms per bin\n",
    "\n",
    "counts, time, _ = plt.hist(decay_times, 39, range=(1e-6, 40e-6)) #need error bars\n",
    "plt.errorbar(time[:-1] + 0.5e-6, counts, yerr=np.sqrt(counts), fmt='ko')\n",
    "plt.yscale('log')\n",
    "plt.ylabel(r'Counts/$\\mu$s')\n",
    "plt.xlabel('seconds')\n",
    "plt.show()\n",
    "\n",
    "\n",
    "\n",
    "\n",
    "# 47.33 is the mean energy loss / 4950milivolts , 40 bins\n",
    "plt.hist(np.array(muon_pulse_heights) * 47.33/4950, 40) #using calibrated expected energies.\n",
    "# plt.yscale('log')\n",
    "plt.ylabel('Counts/(2.39 MeV)')\n",
    "plt.xlabel('Energy Loss (MeV)')\n",
    "plt.savefig(\"MuonCapture.png\")\n",
    "plt.show()\n",
    "\n",
    "plt.hist(np.array(decay_pulse_heights) * 47.33/4950, 40)\n",
    "plt.gca().axvline(53, color='r', ls='--')\n",
    "# plt.yscale('log')\n",
    "plt.ylabel('Counts/(2.39 MeV)')\n",
    "plt.xlabel('Energy Loss (MeV)')\n",
    "plt.savefig(\"Decaycapture.png\")\n",
    "plt.show()\n",
    "\n",
    "#2.2E-6  #mean lifetime muon\n",
    "# print(decay_times)   \n",
    "# print(muon_pulse_heights)\n",
    "# print(decay_pulse_heights)\n",
    "# print(decay_times)\n",
    "print(f'Found {len(decay_pulse_heights)} potential decay events.')\n",
    "\n",
    "#counts, bins = np.histogram(x)\n",
    "# plt.stairs(bins, counts)\n",
    "\n"
   ]
  },
  {
   "cell_type": "markdown",
   "id": "df9ef9d6-8cf0-4cbb-8707-654ded716e43",
   "metadata": {},
   "source": [
    "<!--  look at singles for calibration\n",
    "single sin run#.csv\n",
    "time and pulse hiehgt for each live channel\n",
    "error bar on life time\n",
    "energy loss table\n",
    "produce single muon pulse height histogram spectrum -->"
   ]
  },
  {
   "cell_type": "code",
   "execution_count": 3,
   "id": "ff8d5ba3-2434-4d59-a113-145d5dd56605",
   "metadata": {},
   "outputs": [
    {
     "name": "stdout",
     "output_type": "stream",
     "text": [
      "['Run0000.csv']\n"
     ]
    },
    {
     "name": "stderr",
     "output_type": "stream",
     "text": [
      "/var/folders/tx/tv7gd2xd0554_xx6qzsnl36m0000gn/T/ipykernel_66612/2877855886.py:42: PeakPropertyWarning: some peaks have a width of 0\n",
      "  peaks, _ = find_peaks(x, width=12)\n",
      "/Users/perfecto/opt/anaconda3/lib/python3.9/site-packages/numpy/lib/function_base.py:380: RuntimeWarning: Mean of empty slice.\n",
      "  avg = a.mean(axis)\n",
      "/Users/perfecto/opt/anaconda3/lib/python3.9/site-packages/numpy/core/_methods.py:189: RuntimeWarning: invalid value encountered in double_scalars\n",
      "  ret = ret.dtype.type(ret / rcount)\n"
     ]
    }
   ],
   "source": [
    "#file paths (relative)\n",
    "#path = '.'\n",
    "\n",
    "#This code block is indentical to the first except used to analysis a single run.\n",
    "\n",
    "single_decay_times = []\n",
    "single_muon_pulse_heights = []\n",
    "single_decay_pulse_heights = []\n",
    "\n",
    "# need to find a way to read all the single files at once now. \n",
    "\n",
    "single_files = glob.glob(\"Run0000.csv\")  ##can use pandas data frame\n",
    "print(single_files)\n",
    "\n",
    "for filename in all_files:\n",
    "    if '_traces' in filename:\n",
    "        \n",
    "        try:\n",
    "            f = open(filename, newline='')\n",
    "        except:\n",
    "            print(f'Could not open {filename}.')\n",
    "            continue\n",
    "        \n",
    "        #print(f'Processing {filename}.')\n",
    "        reader = csv.reader(f, quoting = csv.QUOTE_NONE)\n",
    "\n",
    "        while True:\n",
    "            try:\n",
    "                ch, evt = next(reader)\n",
    "            except:\n",
    "                break\n",
    "        \n",
    "            times = np.array(next(reader))\n",
    "            times = times.astype(float)\n",
    "\n",
    "            voltages = np.array(next(reader))\n",
    "            voltages = voltages.astype(float)\n",
    "\n",
    "            x = np.gradient(voltages)   ##gradient\n",
    "            #peaks, _ = find_peaks(x, distance=1000)\n",
    "            #peaks, _ = find_peaks(x, prominence=65) # BEST!\n",
    "            peaks, _ = find_peaks(x, width=12)\n",
    "\n",
    "            width = 12\n",
    "            try:\n",
    "                baseline = voltages[peaks[0]-width-10:peaks[0]-width] #10ish point sample of baseline\n",
    "                avg = np.average(baseline)\n",
    "                baselineTwo = voltages[peaks[1]-width-10:peaks[1]-width]\n",
    "                avgTwo = np.average(baselineTwo)\n",
    "                maxVone = np.max(voltages[peaks[0]:peaks[1]])\n",
    "                # print(maxVone)\n",
    "                # print(maxVtwo)\n",
    "                maxVtwo = np.max(voltages[peaks[1]:])\n",
    "                # timePulseOne = times[peaks[1]] - times[peaks[0]]\n",
    "                single_decay_times.append(times[peaks[1]]-times[peaks[0]])\n",
    "                # print(timePulseOne)\n",
    "\n",
    "                pulseHeightone = maxVone - avg\n",
    "                pulseHeightTwo = maxVtwo - avgTwo\n",
    "                single_muon_pulse_heights.append(pulseHeightone)\n",
    "                single_decay_pulse_heights.append(pulseHeightTwo)\n",
    "            except:\n",
    "                continue"
   ]
  },
  {
   "cell_type": "code",
   "execution_count": 4,
   "id": "d3cb96c1-f358-4701-9449-94bfbda2bf21",
   "metadata": {
    "tags": []
   },
   "outputs": [
    {
     "name": "stdout",
     "output_type": "stream",
     "text": [
      "average energy loss MeV/cm 47.33466276\n"
     ]
    },
    {
     "data": {
      "image/png": "[encoded data removed]",
      "text/plain": [
       "<Figure size 432x288 with 1 Axes>"
      ]
     },
     "metadata": {
      "needs_background": "light"
     },
     "output_type": "display_data"
    }
   ],
   "source": [
    "import pandas as pd\n",
    "from pathlib import Path\n",
    "import configparser\n",
    "                                                                    \n",
    "\n",
    "path = '.'\n",
    "config = configparser.ConfigParser()\n",
    "runTime = 0\n",
    "nRuns   = 0\n",
    "\n",
    "\n",
    "rangeFiles = range(0, 670) # this works for looping all runs\n",
    "runNumbers = list(rangeFiles) \n",
    "\n",
    "\n",
    "\n",
    "for runNumber in runNumbers:\n",
    "\n",
    "\n",
    "\n",
    "    baseName = f'Run{runNumber:04d}'\n",
    "    #print(baseName)\n",
    "    config.read(baseName+'.info')\n",
    "\n",
    "\n",
    "\n",
    "    runTime += config.getfloat('Run', 'Run Time (s)')\n",
    "    \n",
    "    # Read the raw data from the current run into a dataframe\n",
    "    datapath = path+'/'+baseName+'.csv'\n",
    "    df_thisrun = pd.read_csv(datapath)\n",
    "    \n",
    "    if nRuns == 0:\n",
    "        df = df_thisrun\n",
    "    else:\n",
    "        df = pd.concat([df, df_thisrun])\n",
    "    \n",
    "    # Free up memory (for Python, not the OS)\n",
    "    del df_thisrun\n",
    "    \n",
    "    nRuns += 1\n",
    "\n",
    "# average energyloss of sea lvl muons (electrons knocking into electrons) (stopping power)    \n",
    "print(\"average energy loss MeV/cm\", 3.667 * 1.694 * 2.54 * 3)\n",
    "\n",
    "#print(\"runs\", nRuns)\n",
    "#print(\"df\", df)\n",
    "\n",
    "\n",
    "plt.hist(df['pulse_height_A']*47.33/4950, bins=200, histtype='step', color='blue') #4950 milivolts\n",
    "#plt.hist(df['pulse_height_A'], bins=200, histtype='step', color='blue') #4950 milivolts\n",
    "plt.gca().axvline(47.33, color='r', ls='--')\n",
    "plt.ylabel('Counts/0.48 MeV') \n",
    "plt.savefig(\"SingleMuons.png\")\n",
    "plt.xlabel('Energy Loss (MeV)')\n",
    "plt.show()"
   ]
  },
  {
   "cell_type": "code",
   "execution_count": 5,
   "id": "f335723f-70a5-4ccf-9d4e-c0f1b7b20c29",
   "metadata": {
    "tags": []
   },
   "outputs": [
    {
     "name": "stdout",
     "output_type": "stream",
     "text": [
      "3152474\n"
     ]
    },
    {
     "data": {
      "text/plain": [
       "<Figure size 432x288 with 0 Axes>"
      ]
     },
     "metadata": {},
     "output_type": "display_data"
    }
   ],
   "source": [
    "#print(40e-6 * 1.306)\n",
    "print(len(df['pulse_height_A']))\n",
    "plt.savefig('pulse_heightA.png', bbox_inches='tight')\n",
    "#print(len(df['pulse_height_A'])/runTime)"
   ]
  },
  {
   "cell_type": "code",
   "execution_count": 6,
   "id": "d652879a-a510-4b72-b9aa-e2af5a61c68b",
   "metadata": {
    "tags": []
   },
   "outputs": [
    {
     "data": {
      "image/png": "[encoded data removed]",
      "text/plain": [
       "<Figure size 432x288 with 1 Axes>"
      ]
     },
     "metadata": {
      "needs_background": "light"
     },
     "output_type": "display_data"
    },
    {
     "name": "stdout",
     "output_type": "stream",
     "text": [
      "2.102969830245033e-06 +/- 1.3152415842211135e-08\n",
      "4.260743508812332 +/- 1.226725000012839\n",
      "5522\n"
     ]
    }
   ],
   "source": [
    "## NOTES FOR UNDERSTANDING CURVE_FIT\n",
    "\n",
    "# Users should ensure that inputs xdata, ydata, and the output of f are float64,\n",
    "# or else the optimization may return incorrect results.\n",
    "\n",
    "# Returns\n",
    "# popt-array\n",
    "# Optimal values for the parameters so that the sum of the squared residuals of f(xdata, *popt) - ydata is minimized.\n",
    "\n",
    "# pcov-2-D array\n",
    "# The estimated covariance of popt. The diagonals provide the variance of the parameter estimate. \n",
    "# To compute one standard deviation errors on the parameters use perr = np.sqrt(np.diag(pcov)).\n",
    "\n",
    "# In the function, we should use an asterisk ( * ) before the parameter name to pass a variable number of arguments\n",
    "\n",
    "# Covariance measures the direction of the relationship between two variables. \n",
    "# A positive covariance means that both variables tend to be high or low at the same time.\n",
    "# A negative covariance means that when one variable is high, the other tends to be low.\n",
    "\n",
    "## Our possible fit functions \n",
    "\n",
    "def exp_func(x, a, b, c):\n",
    "    return a * np.exp(-x/b) + c  #b is the time constant mean life time ≈ 2.2E-6\n",
    "\n",
    "# def exp_squared_func(x, a, b, c):\n",
    "#     return a * np.exp(-b * x*x*x) + c\n",
    "\n",
    "# def linear_func(x, a, b):\n",
    "#     return a*x + b\n",
    "\n",
    "    # example arrays\n",
    "    # x = np.array([0, 1, 2, 3, 4, 5, 6, 7, 8, 9, 10, 11, 12, 13, 14, 15, 16, 17, 18, 19, 20], np.float)\n",
    "    # y = np.array([1, 1, 1, 1, 0.805621, 0.798992, 0.84231, 0.728796, 0.819471, 0.570414, 0.355124, 0.276447, 0.159058, 0.0762189, 0.0167807, 0.0118647, 0.000319948, 0.00118267, 0, 0, 0], np.float)\n",
    "\n",
    "x = time[:-1] + 0.5e-6\n",
    "y = counts\n",
    "\n",
    "p0 = [2000, 2e-6, 5];\n",
    "# popt_lin, pcov_lin      = scipy.optimize.curve_fit(linear_func, x, y)\n",
    "popt_exp, pcov_exp      = scipy.optimize.curve_fit(exp_func, x, y, p0=p0)\n",
    "# popt_exp_2, pcov_exp_2  = scipy.optimize.curve_fit(exp_squared_func, x, y)\n",
    "\n",
    "plt.figure()\n",
    "plt.plot(x, y, 'ko', label=\"Original data\")\n",
    "plt.errorbar(time[:-1] + 0.5e-6, counts, yerr=np.sqrt(counts), fmt='ko')\n",
    "plt.plot(x, exp_func(x, *popt_exp), 'b-', label='fit with background')\n",
    "#plt.plot(x, exp_func(x, *p0), 'b-', label='exponential')\n",
    "plt.yscale('log')\n",
    "plt.ylabel(r'Counts/ $\\mu$s')\n",
    "plt.xlabel('Time (s)')\n",
    "plt.legend()\n",
    "plt.savefig(\"test.png\")\n",
    "plt.show()\n",
    "    \n",
    "print(popt_exp[1], '+/-', np.sqrt(pcov_exp[1][1]))\n",
    "print(popt_exp[2], '+/-', np.sqrt(pcov_exp[2][2]))\n",
    "    \n",
    "# Want model that has the lowest residual\n",
    "# numpy.linalg.norm(y-func(x, *popt))\n",
    "\n",
    "\n",
    "# xdata = np.linspace(0, 4, 50)\n",
    "# y = func(xdata, 2.5, 1.3, 0.5)\n",
    "# rng = np.random.default_rng()\n",
    "# y_noise = 0.2 * rng.normal(size=xdata.size)\n",
    "# ydata = y + y_noise\n",
    "# plt.plot(xdata, ydata, 'b-', label='data')\n",
    "\n",
    "# popt, pcov = curve_fit(func, xdata, ydata)\n",
    "\n",
    "# plt.plot(xdata, func(xdata, *popt), 'r-',\n",
    "#          label='fit: a=%5.3f, b=%5.3f, c=%5.3f' % tuple(popt))\n",
    "\n",
    "# popt, pcov = curve_fit(func, xdata, ydata, bounds=(0, [3., 1., 0.5]))\n",
    "\n",
    "# plt.plot(xdata, func(xdata, *popt), 'g--',\n",
    "#          label='fit: a=%5.3f, b=%5.3f, c=%5.3f' % tuple(popt))\n",
    "\n",
    "# plt.xlabel('x')\n",
    "# plt.ylabel('y')\n",
    "# plt.legend()\n",
    "# plt.show()\n",
    "\n",
    "\n",
    "#print(len(decay_times))"
   ]
  },
  {
   "cell_type": "code",
   "execution_count": 7,
   "id": "5ceb6bb5-a9ed-4caf-89e6-94b6e2f3c037",
   "metadata": {},
   "outputs": [],
   "source": [
    "#2.102969830245033e-06 mean lifetime\n",
    "\n",
    "# double rate for accidental coincidences past 20 microseconds. Due to random probabilities.\n",
    "# coincidence window t = 40 ms\n",
    "# total cand decay events 5522\n",
    "\n",
    "\n",
    "\n",
    "#we want nnumber of triggers\n",
    "#NdP(double) = 0.288\n",
    "#print(5522*40*10e-6)\n",
    "\n",
    "#background counts under spectrum\n",
    "#print(3152474 * 5.224e-5)\n",
    "#165  4counts/bin"
   ]
  },
  {
   "cell_type": "code",
   "execution_count": null,
   "id": "2664be4c-b86d-4670-a436-ce7f575bc5d8",
   "metadata": {},
   "outputs": [],
   "source": []
  },
  {
   "cell_type": "code",
   "execution_count": null,
   "id": "3354eccb-73ee-4743-afcf-8c8f7283e516",
   "metadata": {},
   "outputs": [],
   "source": []
  },
  {
   "cell_type": "code",
   "execution_count": null,
   "id": "e01692bf-199b-4823-8119-708f56ab67aa",
   "metadata": {},
   "outputs": [],
   "source": []
  }
 ],
 "metadata": {
  "kernelspec": {
   "display_name": "Python 3 (ipykernel)",
   "language": "python",
   "name": "python3"
  },
  "language_info": {
   "codemirror_mode": {
    "name": "ipython",
    "version": 3
   },
   "file_extension": ".py",
   "mimetype": "text/x-python",
   "name": "python",
   "nbconvert_exporter": "python",
   "pygments_lexer": "ipython3",
   "version": "3.9.12"
  }
 },
 "nbformat": 4,
 "nbformat_minor": 5
}
